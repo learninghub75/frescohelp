{
 "cells": [
  {
   "cell_type": "code",
   "execution_count": null,
   "metadata": {},
   "outputs": [],
   "source": [
    "zenPython = '''\n",
    "The Zen of Python, by Tim Peters\n",
    "Beautiful is better than ugly.\n",
    "Explicit is better than implicit.\n",
    "Simple is better than complex.\n",
    "Complex is better than complicated.\n",
    "Flat is better than nested.\n",
    "Sparse is better than dense.\n",
    "Readability counts.\n",
    "Special cases aren't special enough to break the rules.\n",
    "Although practicality beats purity.\n",
    "Errors should never pass silently.\n",
    "Unless explicitly silenced.\n",
    "In the face of ambiguity, refuse the temptation to guess.\n",
    "There should be one-- and preferably only one --obvious way to do it.\n",
    "Although that way may not be obvious at first unless you're Dutch.\n",
    "Now is better than never.\n",
    "Although never is often better than *right* now.\n",
    "If the implementation is hard to explain, it's a bad idea.\n",
    "If the implementation is easy to explain, it may be a good idea.\n",
    "Namespaces are one honking great idea -- let's do more of those!\n",
    "'''\n",
    "\n",
    "words = zenPython.split(\" \")\n",
    "words = [word.strip() for word in words]\n",
    "words = [word.lower() for word in words]"
   ]
  },
  {
   "cell_type": "code",
   "execution_count": null,
   "metadata": {},
   "outputs": [],
   "source": [
    "unique_words = set(words)\n",
    "print(unique_words)"
   ]
  },
  {
   "cell_type": "code",
   "execution_count": null,
   "metadata": {},
   "outputs": [],
   "source": [
    "word_frequency = {word: words.count(word) for word in unique_words}\n",
    "print(word_frequency)"
   ]
  },
  {
   "cell_type": "code",
   "execution_count": null,
   "metadata": {},
   "outputs": [],
   "source": [
    "frequent_words = {key:value for key,value in word_frequency.items() if value >5 }\n",
    "print(frequent_words)"
   ]
  },
  {
   "cell_type": "markdown",
   "metadata": {},
   "source": [
    "Define the generator function fib_gen, which is capable of yielding values of infinite fibonacci series."
   ]
  },
  {
   "cell_type": "code",
   "execution_count": null,
   "metadata": {},
   "outputs": [],
   "source": [
    "def fib_gen():\n",
    "    n, m = 0, 1\n",
    "    while True:\n",
    "        yield n\n",
    "        n, m = m, n+m\n",
    "    \n",
    "fs = fib_gen()\n",
    "print(next(fs))\n",
    "print(next(fs))\n",
    "print(next(fs))\n",
    "print(next(fs))\n",
    "print(next(fs))\n",
    "print(next(fs))\n"
   ]
  },
  {
   "cell_type": "markdown",
   "metadata": {},
   "source": [
    "Define the generator function factorial_gen, which is capable of yielding factorial values of natural numbers."
   ]
  },
  {
   "cell_type": "code",
   "execution_count": null,
   "metadata": {
    "scrolled": true
   },
   "outputs": [],
   "source": [
    "def factorial_gen():\n",
    "    a, b =  1, 1\n",
    "    while True:\n",
    "        yield a\n",
    "        a = a*b\n",
    "        b += 1\n",
    "        \n",
    "fs = factorial_gen()\n",
    "print(next(fs))\n",
    "print(next(fs))\n",
    "print(next(fs))\n",
    "print(next(fs))\n",
    "print(next(fs))\n",
    "print(next(fs))"
   ]
  },
  {
   "cell_type": "code",
   "execution_count": null,
   "metadata": {},
   "outputs": [],
   "source": [
    "{ ord(i) for i in 'apple' }"
   ]
  },
  {
   "cell_type": "code",
   "execution_count": null,
   "metadata": {},
   "outputs": [],
   "source": [
    "CLASS PYTHON - HANDS ON\n",
    "from math import sqrt\n",
    "\n",
    "class Point:\n",
    "    def __init__(self, x, y, z):\n",
    "        self.x, self.y, self.z = x, y , z\n",
    "    \n",
    "    def __str__(self):\n",
    "        return 'Point : ({}, {}, {})'.format(self.x,self.y,self.z)\n",
    "        \n",
    "    def __add__(self, ot):\n",
    "        a, b, c = self.x+ot.x, self.y+ot.y, self.z+ot.z\n",
    "        return Point(a,b,c)\n",
    "      \n",
    "def distance(p1, p2):\n",
    "    distan = sqrt((p1.x - p2.x)**2 + (p1.y - p2.y)**2 + (p1.z - p2.z)**2 )\n",
    "    return distan\n",
    "        \n",
    "p1 = Point(4, 2, 9)\n",
    "p2 = Point(-2, -1, 4)\n",
    "print(distance(p1, p2))\n",
    "print(p1 + p2)"
   ]
  },
  {
   "cell_type": "code",
   "execution_count": null,
   "metadata": {},
   "outputs": [],
   "source": [
    "UNIT TEST TestCases\n",
    "import unittest\n",
    "\n",
    "\n",
    "def isEven(n):\n",
    "    if n%2 == 0:\n",
    "        return True\n",
    "    else:\n",
    "        return False\n",
    "        \n",
    "class TestIsEvenMethod(unittest.TestCase):\n",
    "    \n",
    "    def testEven(self):\n",
    "        self.assertTrue(isEven(2))\n",
    "        \n",
    "    def testOdd(self):\n",
    "        self.assertFalse(isEven(3))\n",
    "    \n",
    "    def test_isEven1(self):\n",
    "        self.assertEqual(isEven(5), False)\n",
    "        \n",
    "    def test_isEven2(self):\n",
    "        self.assertEqual(isEven(10), True)\n",
    "        \n",
    "    def test_isEven3(self):\n",
    "        with self.assertRaises(TypeError):\n",
    "            isEven(\"hello\")\n",
    "\n",
    "if __name__ == '__main__': \n",
    "    unittest.main() "
   ]
  },
  {
   "cell_type": "markdown",
   "metadata": {},
   "source": [
    "### P3 # 7.1\n",
    "Write a script that reads a number from STDIN and raise ValueError exception if the number is not between 0 and 100. You may type python3.5 to use the latest version for the exercise"
   ]
  },
  {
   "cell_type": "code",
   "execution_count": null,
   "metadata": {
    "scrolled": true
   },
   "outputs": [],
   "source": [
    "n = int(input())\n",
    "try:\n",
    "    if 0 <= n <= 100:\n",
    "        print(n)\n",
    "    else:\n",
    "        raise ValueError(\"Number should be in between 0 and 100\")\n",
    "except ValueError as e:\n",
    "    print(e)\n",
    "        "
   ]
  },
  {
   "cell_type": "markdown",
   "metadata": {},
   "source": [
    "Write a script that reads a string from STDIN and raise ValueError exception if the string has more than 10 characters. You may type python3.5 to use the latest version for the exercise"
   ]
  },
  {
   "cell_type": "code",
   "execution_count": null,
   "metadata": {
    "scrolled": true
   },
   "outputs": [],
   "source": [
    "n = input()\n",
    "try:\n",
    "    if len(n) > 10:\n",
    "        raise ValueError(\"String length should be less than 10 char\")\n",
    "except ValueError as e:\n",
    "    print(e)"
   ]
  },
  {
   "cell_type": "markdown",
   "metadata": {},
   "source": [
    "### 7.3\n",
    "Write a script that handles opening a non-existing file and prints the message File not found to the user. You may type python3.5 to use the latest version for the exercise"
   ]
  },
  {
   "cell_type": "code",
   "execution_count": null,
   "metadata": {
    "scrolled": false
   },
   "outputs": [],
   "source": [
    "try:\n",
    "    f = open('absc.csv', 'r')\n",
    "except FileNotFoundError as e:\n",
    "    print(e)"
   ]
  },
  {
   "cell_type": "markdown",
   "metadata": {},
   "source": [
    "### P3 # 7.4\n",
    "Define a class Circle, whose objects are initialized with radius as it's attribute.\n",
    "\n",
    "Ensure that the object creation raises RadiusInputError, a user defined exception, when the input radius is not a number.\n",
    "\n",
    "For e.g : Circle('hello') -> RadiusInputError : 'hello' is not a number You may type python3.5 to use the latest version for the exercise"
   ]
  },
  {
   "cell_type": "code",
   "execution_count": null,
   "metadata": {
    "scrolled": false
   },
   "outputs": [],
   "source": [
    "class RadiusInputError(Exception):\n",
    "    pass\n",
    "\n",
    "class Circle:\n",
    "    def __init__(self, radius):\n",
    "        if isinstance(radius, str):\n",
    "            raise RadiusInputError(\"radius should be a number\")\n",
    "        self.radius = radius\n",
    "        \n",
    "try:\n",
    "    p = Circle(\"hello\")\n",
    "except RadiusInputError as e:\n",
    "    print(e)"
   ]
  },
  {
   "cell_type": "markdown",
   "metadata": {},
   "source": [
    "### P3 # 6.1\n",
    "Categorize the numbers of list n = [10, 13, 16, 22, 9, 4 , 37] into two groups namely even and odd.\n",
    "\n",
    "Hint : Use groupby method of itertools module. You may type python3.5 to use the latest version for the exercise"
   ]
  },
  {
   "cell_type": "code",
   "execution_count": null,
   "metadata": {},
   "outputs": [],
   "source": [
    "from itertools import groupby\n",
    "\n",
    "n = [10, 13, 16, 22, 9, 4, 37]\n",
    "even, odd = [], []\n",
    "for k, g in groupby(n, lambda x : x%2 ):\n",
    "    if k:\n",
    "        odd.extend(g)\n",
    "    else:\n",
    "        even.extend(g)\n",
    "        \n",
    "print(even)\n",
    "print(odd)"
   ]
  },
  {
   "cell_type": "markdown",
   "metadata": {},
   "source": [
    "## 6.2\n",
    "Write a program which traverses the current working directory recursively and displays those files ending with .py.\n",
    "\n",
    "Hint : Use walk method of os package. You may type python3.5 to use the latest version for the exercise"
   ]
  },
  {
   "cell_type": "code",
   "execution_count": null,
   "metadata": {
    "scrolled": true
   },
   "outputs": [],
   "source": [
    "import os\n",
    "\n",
    "path = \"C:\\\\Users\\Vicky\\IdeaProjects\\JupyterTest\"\n",
    "for (roots,dir,files) in os.walk(os.getcwd(), topdown=True):\n",
    "    print(roots)\n",
    "    for file in files:\n",
    "        if file.endswith(\".py\"):\n",
    "            print(file)\n",
    "    print(\"-------------------------------------------------------\")"
   ]
  },
  {
   "cell_type": "markdown",
   "metadata": {},
   "source": [
    "### 6.3\n",
    "Determine which months of the current year have five or more Sundays.\n",
    "\n",
    "Hint : Explore calendar module. You may type python3.5 to use the latest version for the exercise"
   ]
  },
  {
   "cell_type": "code",
   "execution_count": 10,
   "metadata": {
    "scrolled": true
   },
   "outputs": [
    {
     "name": "stdout",
     "output_type": "stream",
     "text": [
      "{1: 4, 2: 4, 3: 5, 4: 4, 5: 4, 6: 5, 7: 4, 8: 4, 9: 5, 10: 4, 11: 4, 12: 5}\n",
      "Mar\n",
      "Jun\n",
      "Sep\n",
      "Dec\n"
     ]
    }
   ],
   "source": [
    "from calendar import monthrange, weekday, SUNDAY, month_abbr\n",
    "from datetime import datetime\n",
    "\n",
    "sun_month = {}\n",
    "y = datetime.today().year\n",
    "for m in range(1, 13):\n",
    "    sundays = len([1 for i in calendar.monthcalendar(y, m) if i[6] != 0])\n",
    "    sun_month[m] = sundays\n",
    "print(sun_month)\n",
    "for k, g in sun_month.items():\n",
    "    if g >= 5:\n",
    "        print(month_abbr[k])"
   ]
  },
  {
   "cell_type": "markdown",
   "metadata": {},
   "source": [
    "### P3 # 6.4\n",
    "Define two functions f1 and f2 such that,\n",
    "\n",
    "f1 returns a list of squares of first 20 natural numbers using list comprehension.\n",
    "\n",
    "f2 returns a generator that computes squares of first 20 natural numbers.\n",
    "\n",
    "Determine the time taken by each function to get executed 100000 times.\n",
    "\n",
    "Hint : Explore timeit module You may type python3.5 to use the latest version for the exercise"
   ]
  },
  {
   "cell_type": "code",
   "execution_count": 26,
   "metadata": {
    "scrolled": true
   },
   "outputs": [
    {
     "name": "stdout",
     "output_type": "stream",
     "text": [
      "0.20833258493848916 0.02914121055209762\n"
     ]
    }
   ],
   "source": [
    "import timeit\n",
    "\n",
    "def f1():\n",
    "    li = [i*i for i in range(20)]\n",
    "    return li\n",
    "\n",
    "def f2():\n",
    "    for i in range(1,21):\n",
    "        yield i*i\n",
    "    \n",
    "\n",
    "t1 = timeit.timeit(f1, number=100000)\n",
    "t2 = timeit.timeit(f2, number=100000)\n",
    "print(t1, t2)"
   ]
  },
  {
   "cell_type": "markdown",
   "metadata": {},
   "source": [
    "### 6.5\n",
    "Define two functions f1 and f2 such that,\n",
    "\n",
    "f1 returns a list of squares of first 200000 natural numbers using list comprehension.\n",
    "\n",
    "f2 returns a generator that computes squares of first 200000 natural numbers.\n",
    "\n",
    "Perform profiling of both the functions and which portions of a function consume more time for computing.\n",
    "\n",
    "Hint : Make use of runctx method of cProfile module. You may type python3.5 to use the latest version for the exercise"
   ]
  },
  {
   "cell_type": "code",
   "execution_count": 30,
   "metadata": {},
   "outputs": [
    {
     "ename": "AttributeError",
     "evalue": "'TypeError' object has no attribute 'type'",
     "output_type": "error",
     "traceback": [
      "\u001b[1;31m---------------------------------------------------------------------------\u001b[0m",
      "\u001b[1;31mTypeError\u001b[0m                                 Traceback (most recent call last)",
      "\u001b[1;32m<ipython-input-30-18104b0c602a>\u001b[0m in \u001b[0;36m<module>\u001b[1;34m\u001b[0m\n\u001b[0;32m      8\u001b[0m \u001b[1;32mtry\u001b[0m\u001b[1;33m:\u001b[0m\u001b[1;33m\u001b[0m\u001b[0m\n\u001b[1;32m----> 9\u001b[1;33m     \u001b[0mprint\u001b[0m\u001b[1;33m(\u001b[0m \u001b[1;36m5\u001b[0m\u001b[1;33m+\u001b[0m \u001b[1;34m\"hel\"\u001b[0m\u001b[1;33m)\u001b[0m\u001b[1;33m\u001b[0m\u001b[0m\n\u001b[0m\u001b[0;32m     10\u001b[0m \u001b[1;32mexcept\u001b[0m \u001b[0mException\u001b[0m \u001b[1;32mas\u001b[0m \u001b[0me\u001b[0m\u001b[1;33m:\u001b[0m\u001b[1;33m\u001b[0m\u001b[0m\n",
      "\u001b[1;31mTypeError\u001b[0m: unsupported operand type(s) for +: 'int' and 'str'",
      "\nDuring handling of the above exception, another exception occurred:\n",
      "\u001b[1;31mAttributeError\u001b[0m                            Traceback (most recent call last)",
      "\u001b[1;32m<ipython-input-30-18104b0c602a>\u001b[0m in \u001b[0;36m<module>\u001b[1;34m\u001b[0m\n\u001b[0;32m      9\u001b[0m     \u001b[0mprint\u001b[0m\u001b[1;33m(\u001b[0m \u001b[1;36m5\u001b[0m\u001b[1;33m+\u001b[0m \u001b[1;34m\"hel\"\u001b[0m\u001b[1;33m)\u001b[0m\u001b[1;33m\u001b[0m\u001b[0m\n\u001b[0;32m     10\u001b[0m \u001b[1;32mexcept\u001b[0m \u001b[0mException\u001b[0m \u001b[1;32mas\u001b[0m \u001b[0me\u001b[0m\u001b[1;33m:\u001b[0m\u001b[1;33m\u001b[0m\u001b[0m\n\u001b[1;32m---> 11\u001b[1;33m     \u001b[0mprint\u001b[0m\u001b[1;33m(\u001b[0m\u001b[0me\u001b[0m\u001b[1;33m.\u001b[0m\u001b[0mtype\u001b[0m\u001b[1;33m)\u001b[0m\u001b[1;33m\u001b[0m\u001b[0m\n\u001b[0m",
      "\u001b[1;31mAttributeError\u001b[0m: 'TypeError' object has no attribute 'type'"
     ]
    }
   ],
   "source": [
    "def f1():\n",
    "    li = [i*i for i in range(200000)]\n",
    "    return li\n",
    "\n",
    "def f2():\n",
    "    for i in range(200000):\n",
    "        yield i*i\n",
    "try:        \n",
    "    print( 5+ \"hel\")\n",
    "except Exception as e:\n",
    "    print(e.type)"
   ]
  },
  {
   "cell_type": "code",
   "execution_count": 32,
   "metadata": {},
   "outputs": [
    {
     "data": {
      "text/plain": [
       "[('K', 1), ('I', 1), ('W', 1), ('I', 1)]"
      ]
     },
     "execution_count": 32,
     "metadata": {},
     "output_type": "execute_result"
    }
   ],
   "source": [
    "[(i.upper(), len(i)) for i in 'kiwi' ]"
   ]
  }
 ],
 "metadata": {
  "kernelspec": {
   "display_name": "Python 3",
   "language": "python",
   "name": "python3"
  },
  "language_info": {
   "codemirror_mode": {
    "name": "ipython",
    "version": 3
   },
   "file_extension": ".py",
   "mimetype": "text/x-python",
   "name": "python",
   "nbconvert_exporter": "python",
   "pygments_lexer": "ipython3",
   "version": "3.6.4"
  }
 },
 "nbformat": 4,
 "nbformat_minor": 2
}
