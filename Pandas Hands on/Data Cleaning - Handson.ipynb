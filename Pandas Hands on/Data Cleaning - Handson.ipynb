{
 "cells": [
  {
   "cell_type": "markdown",
   "metadata": {},
   "source": [
    "### Task 1\n",
    "Create a series named heights_A with values 176.2, 158.4, 167.6, 156.2, and 161.4. These values represent heights of 5 students of class A.\n",
    "\n",
    "Label each student as s1, s2, s3, s4, and s5.\n",
    "\n",
    "Create another series named weights_A with values 85.1, 90.2, 76.8, 80.4, and 78.9. These values represent weights of 5 students of class A.\n",
    "\n",
    "Label each student as s1, s2, s3, s4, and s5.\n",
    "\n",
    "Create a dataframe named df_A, which contains the height and weight of five students namely s1, s2, s3, s4 and s5.\n",
    "\n",
    "Label the columns as Student_height and Student_weight, respectively.\n",
    "\n",
    "Set height and weight values of student s3 to NaN .\n",
    "\n",
    "Note: Use .loc to select the s3 record and set the values to np.nan.\n",
    "\n",
    "Set the weight of s5 to NaN.\n",
    "\n",
    "Drop the rows having null values in any of the columns, and assign the result to df_A2. Note: Use the dropna method.\n",
    "\n",
    "Display the dataframe df_A2."
   ]
  },
  {
   "cell_type": "code",
   "execution_count": 11,
   "metadata": {},
   "outputs": [
    {
     "data": {
      "text/html": [
       "<div>\n",
       "<style scoped>\n",
       "    .dataframe tbody tr th:only-of-type {\n",
       "        vertical-align: middle;\n",
       "    }\n",
       "\n",
       "    .dataframe tbody tr th {\n",
       "        vertical-align: top;\n",
       "    }\n",
       "\n",
       "    .dataframe thead th {\n",
       "        text-align: right;\n",
       "    }\n",
       "</style>\n",
       "<table border=\"1\" class=\"dataframe\">\n",
       "  <thead>\n",
       "    <tr style=\"text-align: right;\">\n",
       "      <th></th>\n",
       "      <th>Student_height</th>\n",
       "      <th>Student_weight</th>\n",
       "    </tr>\n",
       "  </thead>\n",
       "  <tbody>\n",
       "    <tr>\n",
       "      <th>s1</th>\n",
       "      <td>176.2</td>\n",
       "      <td>85.1</td>\n",
       "    </tr>\n",
       "    <tr>\n",
       "      <th>s2</th>\n",
       "      <td>158.4</td>\n",
       "      <td>90.2</td>\n",
       "    </tr>\n",
       "    <tr>\n",
       "      <th>s4</th>\n",
       "      <td>156.2</td>\n",
       "      <td>80.4</td>\n",
       "    </tr>\n",
       "  </tbody>\n",
       "</table>\n",
       "</div>"
      ],
      "text/plain": [
       "    Student_height  Student_weight\n",
       "s1           176.2            85.1\n",
       "s2           158.4            90.2\n",
       "s4           156.2            80.4"
      ]
     },
     "execution_count": 11,
     "metadata": {},
     "output_type": "execute_result"
    }
   ],
   "source": [
    "import pandas as pd\n",
    "import numpy as np\n",
    "\n",
    "heights_A = pd.Series([176.2, 158.4, 167.6, 156.2, 161.4], index=('s1', 's2', 's3', 's4', 's5'))\n",
    "weights_A = pd.Series([85.1, 90.2, 76.8, 80.4, 78.9], index=('s1', 's2', 's3', 's4', 's5'))\n",
    "df_A = pd.DataFrame.from_dict({'Student_height': heights_A, 'Student_weight':weights_A})\n",
    "df_A.loc['s3'] = np.nan\n",
    "df_A.loc['s5']['Student_weight'] = np.nan\n",
    "df_A2 = df_A.dropna()\n",
    "print(df_A2)"
   ]
  },
  {
   "cell_type": "markdown",
   "metadata": {},
   "source": [
    "## Quiz"
   ]
  },
  {
   "cell_type": "code",
   "execution_count": null,
   "metadata": {},
   "outputs": [],
   "source": []
  }
 ],
 "metadata": {
  "kernelspec": {
   "display_name": "Python 3",
   "language": "python",
   "name": "python3"
  },
  "language_info": {
   "codemirror_mode": {
    "name": "ipython",
    "version": 3
   },
   "file_extension": ".py",
   "mimetype": "text/x-python",
   "name": "python",
   "nbconvert_exporter": "python",
   "pygments_lexer": "ipython3",
   "version": "3.6.4"
  }
 },
 "nbformat": 4,
 "nbformat_minor": 2
}
