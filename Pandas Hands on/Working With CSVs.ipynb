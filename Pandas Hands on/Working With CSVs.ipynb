{
 "cells": [
  {
   "cell_type": "markdown",
   "metadata": {},
   "source": [
    "### Task 1\n",
    "Create a series named heights_A with values 176.2, 158.4, 167.6, 156.2, and 161.4. These values represent heights of 5 students of class A.\n",
    "\n",
    "Label each student as s1, s2, s3, s4, and s5.\n",
    "\n",
    "Create another series named weights_A with values 85.1, 90.2, 76.8, 80.4, and 78.9. These values represent weights of 5 students of class A.\n",
    "\n",
    "Label each student as s1, s2, s3, s4, and s5.\n",
    "\n",
    "Create a dataframe named df_A, which contains the height and weight of five students namely s1, s2, s3, s4 and s5.\n",
    "\n",
    "Label the columns as Student_height and Student_weight, respectively.\n",
    "\n",
    "Write the contents of df_A to a CSV file named classA.csv.\n",
    "\n",
    "Note: Use the to_csv method associated with a dataframe.\n",
    "\n",
    "Verify if the file classA.csv exists in the present directory using command ls -l.\n",
    "\n",
    "You can also view the contents of the file using the command cat classA.csv"
   ]
  },
  {
   "cell_type": "code",
   "execution_count": 3,
   "metadata": {},
   "outputs": [],
   "source": [
    "import pandas as pd\n",
    "\n",
    "heights_A = pd.Series([76.2, 158.4, 167.6, 156.2, 161.4], index=('s1', 's2', 's3', 's4', 's5'))\n",
    "weights_A = pd.Series([85.1, 90.2, 76.8, 80.4, 78.9], index=('s1', 's2', 's3', 's4', 's5'))\n",
    "df_A = pd.DataFrame.from_dict({'Student_height': heights_A, 'Student_weight':weights_A})\n",
    "df_A.to_csv('classA.csv')"
   ]
  },
  {
   "cell_type": "code",
   "execution_count": null,
   "metadata": {},
   "outputs": [],
   "source": []
  }
 ],
 "metadata": {
  "kernelspec": {
   "display_name": "Python 3",
   "language": "python",
   "name": "python3"
  },
  "language_info": {
   "codemirror_mode": {
    "name": "ipython",
    "version": 3
   },
   "file_extension": ".py",
   "mimetype": "text/x-python",
   "name": "python",
   "nbconvert_exporter": "python",
   "pygments_lexer": "ipython3",
   "version": "3.6.4"
  }
 },
 "nbformat": 4,
 "nbformat_minor": 2
}
