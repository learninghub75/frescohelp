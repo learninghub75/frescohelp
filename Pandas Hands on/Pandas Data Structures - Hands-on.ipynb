{
 "cells": [
  {
   "cell_type": "markdown",
   "metadata": {},
   "source": [
    "### Task 1\n",
    "Create a series named heights_A with values 176.2, 158.4, 167.6, 156.2, and 161.4. These values represent the height of 5 students of class A.\n",
    "\n",
    "Label each student as s1, s2, s3, s4, and s5.\n",
    "\n",
    "Determine the shape of heights_A and display it.\n",
    "\n",
    "Note: Use the **Series method available in the pandas** library."
   ]
  },
  {
   "cell_type": "code",
   "execution_count": 1,
   "metadata": {},
   "outputs": [
    {
     "name": "stdout",
     "output_type": "stream",
     "text": [
      "(5,)\n"
     ]
    }
   ],
   "source": [
    "import pandas as pd\n",
    "\n",
    "heights_A = pd.Series([76.2, 158.4, 167.6, 156.2, 161.4], index=('s1', 's2', 's3', 's4', 's5'))\n",
    "print(heights_A.shape)"
   ]
  },
  {
   "cell_type": "markdown",
   "metadata": {},
   "source": [
    "### Task 2\n",
    "Create another series named weights_A with values 85.1, 90.2, 76.8, 80.4, and 78.9. These values represent the weights of 5 students of class A.\n",
    "\n",
    "Label each student as s1, s2, s3, s4, and s5.\n",
    "\n",
    "Determine data type of values in weights_A and display it.\n",
    "\n",
    "Note: Use the **Series method available in the pandas** library."
   ]
  },
  {
   "cell_type": "code",
   "execution_count": 2,
   "metadata": {},
   "outputs": [
    {
     "name": "stdout",
     "output_type": "stream",
     "text": [
      "float64\n"
     ]
    }
   ],
   "source": [
    "weights_A = pd.Series([85.1, 90.2, 76.8, 80.4, 78.9], index=('s1', 's2', 's3', 's4', 's5'))\n",
    "print(weights_A.dtype)"
   ]
  },
  {
   "cell_type": "markdown",
   "metadata": {},
   "source": [
    "### Task 3\n",
    "Create a dataframe named df_A, which contains the height and weight of five students namely s1, s2, s3, s4 and s5.\n",
    "\n",
    "Label the columns as Student_height and Student_weight, respectively.\n",
    "\n",
    "Display the shape of df_A.\n",
    "\n",
    "Note: Use the DataFrame method in pandas, and also the series heights_A, weights_A created in the previous problems."
   ]
  },
  {
   "cell_type": "code",
   "execution_count": 3,
   "metadata": {},
   "outputs": [
    {
     "name": "stdout",
     "output_type": "stream",
     "text": [
      "(5, 2)\n"
     ]
    }
   ],
   "source": [
    "df_A = pd.DataFrame.from_dict({'Student_height': heights_A, 'Student_weight':weights_A})\n",
    "print(df_A.shape)"
   ]
  },
  {
   "cell_type": "markdown",
   "metadata": {},
   "source": [
    "### Task 4\n",
    "Create another series named heights_B from a 1-D numpy array of 5 elements derived from the normal distribution of mean 170.0 and standard deviation 25.0.\n",
    "Note: Set random seed to 100 before creating the heights_B series.\n",
    "\n",
    "Create another series named weights_B from a 1-D numpy array of 5 elements derived from the normal distribution of mean 75.0 and standard deviation 12.0.\n",
    "\n",
    "Note: Set random seed to 100 before creating the weights_B series.\n",
    "\n",
    "Label both series elements as s1, s2, s3, s4 and s5.\n",
    "\n",
    "Print the mean of series heights_B."
   ]
  },
  {
   "cell_type": "code",
   "execution_count": 4,
   "metadata": {},
   "outputs": [
    {
     "name": "stdout",
     "output_type": "stream",
     "text": [
      "172.37417741633146\n"
     ]
    }
   ],
   "source": [
    "import numpy as np\n",
    "np.random.seed(100)\n",
    "heights = np.random.normal(170,25,5)\n",
    "weights = np.random.normal(75,12,5)\n",
    "labels = ['s1', 's2', 's3', 's4', 's5']\n",
    "heights_B = pd.Series(heights, index=labels)\n",
    "weights_B = pd.Series(weights, index=labels)\n",
    "print(heights_B.mean())"
   ]
  },
  {
   "cell_type": "markdown",
   "metadata": {},
   "source": [
    "### Task 5\n",
    "Create a dataframe df_B containing the height and weight of students s1, s2, s3, s4 and s5 belonging to class B.\n",
    "\n",
    "Label the columns as Student_height and Student_weight respectively.\n",
    "\n",
    "Display the column names of df_B.\n",
    "\n",
    "Note: Use the heights_B and weights_B series created in the above tasks."
   ]
  },
  {
   "cell_type": "code",
   "execution_count": 5,
   "metadata": {},
   "outputs": [
    {
     "name": "stdout",
     "output_type": "stream",
     "text": [
      "Index(['Student_height', 'Student_weight'], dtype='object')\n"
     ]
    }
   ],
   "source": [
    "df_B = pd.DataFrame({'Student_height': heights_B, 'Student_weight': weights_B})\n",
    "print(df_B.columns)"
   ]
  },
  {
   "cell_type": "markdown",
   "metadata": {},
   "source": [
    "### Task 6\n",
    "Create a panel p, containing the previously created two dataframes df_A and df_B.\n",
    "\n",
    "Label the first dataframe as ClassA, and second as ClassB.\n",
    "\n",
    "Determine the shape of panel p and display it.\n",
    "\n",
    "Note: Use the **Panel method of pandas**."
   ]
  },
  {
   "cell_type": "code",
   "execution_count": null,
   "metadata": {},
   "outputs": [],
   "source": [
    "data = {'ClassA':df_A, 'ClassB':df_B}\n",
    "p = pd.Panel(data)\n",
    "print(p.shape)\n",
    "# It is working on other platforms. Not working in Jupyter notebook. No idea why ?"
   ]
  }
 ],
 "metadata": {
  "kernelspec": {
   "display_name": "Python 3",
   "language": "python",
   "name": "python3"
  },
  "language_info": {
   "codemirror_mode": {
    "name": "ipython",
    "version": 3
   },
   "file_extension": ".py",
   "mimetype": "text/x-python",
   "name": "python",
   "nbconvert_exporter": "python",
   "pygments_lexer": "ipython3",
   "version": "3.6.4"
  }
 },
 "nbformat": 4,
 "nbformat_minor": 2
}
